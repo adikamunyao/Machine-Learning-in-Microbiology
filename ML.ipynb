{
 "cells": [
  {
   "cell_type": "markdown",
   "metadata": {},
   "source": [
    "# Machine Learning"
   ]
  },
  {
   "cell_type": "markdown",
   "metadata": {},
   "source": [
    "Specifically analyze which species can represent the characteristics of a certain population using machine learning. such as,Actinobacteria in control group. Firmicutes in peri-implantitis"
   ]
  },
  {
   "cell_type": "code",
   "execution_count": 2,
   "metadata": {},
   "outputs": [],
   "source": [
    "# import relevant libraries\n",
    "import pandas as pd\n",
    "import numpy as np"
   ]
  },
  {
   "cell_type": "markdown",
   "metadata": {},
   "source": [
    "## Data"
   ]
  },
  {
   "cell_type": "code",
   "execution_count": 4,
   "metadata": {},
   "outputs": [],
   "source": [
    "# load the datasets\n",
    "archaea = pd.read_csv(\"Archaea.csv\")\n",
    "bacteria = pd.read_csv(\"Bacteria.csv\")\n",
    "fungus = pd.read_csv(\"fungus.csv\")\n",
    "virus = pd.read_csv(\"virus.csv\")"
   ]
  },
  {
   "cell_type": "code",
   "execution_count": 17,
   "metadata": {},
   "outputs": [
    {
     "data": {
      "text/html": [
       "<div>\n",
       "<style scoped>\n",
       "    .dataframe tbody tr th:only-of-type {\n",
       "        vertical-align: middle;\n",
       "    }\n",
       "\n",
       "    .dataframe tbody tr th {\n",
       "        vertical-align: top;\n",
       "    }\n",
       "\n",
       "    .dataframe thead th {\n",
       "        text-align: right;\n",
       "    }\n",
       "</style>\n",
       "<table border=\"1\" class=\"dataframe\">\n",
       "  <thead>\n",
       "    <tr style=\"text-align: right;\">\n",
       "      <th></th>\n",
       "      <th>Domain</th>\n",
       "      <th>Kingdom</th>\n",
       "      <th>Phylum</th>\n",
       "      <th>Class</th>\n",
       "      <th>Order</th>\n",
       "      <th>Family</th>\n",
       "      <th>Genus</th>\n",
       "      <th>Species</th>\n",
       "      <th>ASV</th>\n",
       "      <th>SUM</th>\n",
       "      <th>...</th>\n",
       "      <th>p8</th>\n",
       "      <th>c13</th>\n",
       "      <th>pm2</th>\n",
       "      <th>c3</th>\n",
       "      <th>pm4</th>\n",
       "      <th>pm5</th>\n",
       "      <th>pm6</th>\n",
       "      <th>pm7</th>\n",
       "      <th>pm8</th>\n",
       "      <th>pm9</th>\n",
       "    </tr>\n",
       "  </thead>\n",
       "  <tbody>\n",
       "    <tr>\n",
       "      <th>0</th>\n",
       "      <td>d__Eukaryota</td>\n",
       "      <td>k__Fungi</td>\n",
       "      <td>p__Ascomycota</td>\n",
       "      <td>c__Saccharomycetes</td>\n",
       "      <td>o__Saccharomycetales</td>\n",
       "      <td>f__Saccharomycetales_fam_Incertae_sedis</td>\n",
       "      <td>g__Candida</td>\n",
       "      <td>s__Candida_albicans</td>\n",
       "      <td>ASV413</td>\n",
       "      <td>95969</td>\n",
       "      <td>...</td>\n",
       "      <td>0</td>\n",
       "      <td>0</td>\n",
       "      <td>0</td>\n",
       "      <td>0</td>\n",
       "      <td>0</td>\n",
       "      <td>0</td>\n",
       "      <td>0</td>\n",
       "      <td>0</td>\n",
       "      <td>0</td>\n",
       "      <td>0</td>\n",
       "    </tr>\n",
       "    <tr>\n",
       "      <th>1</th>\n",
       "      <td>d__Eukaryota</td>\n",
       "      <td>k__Fungi</td>\n",
       "      <td>p__Ascomycota</td>\n",
       "      <td>c__Saccharomycetes</td>\n",
       "      <td>o__Saccharomycetales</td>\n",
       "      <td>f__Saccharomycetales_fam_Incertae_sedis</td>\n",
       "      <td>g__Candida</td>\n",
       "      <td>s__Candida_albicans</td>\n",
       "      <td>ASV970</td>\n",
       "      <td>2882</td>\n",
       "      <td>...</td>\n",
       "      <td>0</td>\n",
       "      <td>0</td>\n",
       "      <td>0</td>\n",
       "      <td>0</td>\n",
       "      <td>0</td>\n",
       "      <td>0</td>\n",
       "      <td>0</td>\n",
       "      <td>0</td>\n",
       "      <td>0</td>\n",
       "      <td>0</td>\n",
       "    </tr>\n",
       "    <tr>\n",
       "      <th>2</th>\n",
       "      <td>d__Eukaryota</td>\n",
       "      <td>k__Fungi</td>\n",
       "      <td>p__Ascomycota</td>\n",
       "      <td>c__Eurotiomycetes</td>\n",
       "      <td>o__Eurotiales</td>\n",
       "      <td>f__Aspergillaceae</td>\n",
       "      <td>g__Aspergillus</td>\n",
       "      <td>s__unclassified_g__Aspergillus</td>\n",
       "      <td>ASV11</td>\n",
       "      <td>89015</td>\n",
       "      <td>...</td>\n",
       "      <td>1814</td>\n",
       "      <td>698</td>\n",
       "      <td>789</td>\n",
       "      <td>13</td>\n",
       "      <td>1266</td>\n",
       "      <td>451</td>\n",
       "      <td>1247</td>\n",
       "      <td>134</td>\n",
       "      <td>1132</td>\n",
       "      <td>613</td>\n",
       "    </tr>\n",
       "  </tbody>\n",
       "</table>\n",
       "<p>3 rows × 62 columns</p>\n",
       "</div>"
      ],
      "text/plain": [
       "         Domain   Kingdom         Phylum               Class  \\\n",
       "0  d__Eukaryota  k__Fungi  p__Ascomycota  c__Saccharomycetes   \n",
       "1  d__Eukaryota  k__Fungi  p__Ascomycota  c__Saccharomycetes   \n",
       "2  d__Eukaryota  k__Fungi  p__Ascomycota   c__Eurotiomycetes   \n",
       "\n",
       "                  Order                                   Family  \\\n",
       "0  o__Saccharomycetales  f__Saccharomycetales_fam_Incertae_sedis   \n",
       "1  o__Saccharomycetales  f__Saccharomycetales_fam_Incertae_sedis   \n",
       "2         o__Eurotiales                        f__Aspergillaceae   \n",
       "\n",
       "            Genus                         Species     ASV    SUM  ...    p8  \\\n",
       "0      g__Candida             s__Candida_albicans  ASV413  95969  ...     0   \n",
       "1      g__Candida             s__Candida_albicans  ASV970   2882  ...     0   \n",
       "2  g__Aspergillus  s__unclassified_g__Aspergillus   ASV11  89015  ...  1814   \n",
       "\n",
       "   c13  pm2  c3   pm4  pm5   pm6  pm7   pm8  pm9  \n",
       "0    0    0   0     0    0     0    0     0    0  \n",
       "1    0    0   0     0    0     0    0     0    0  \n",
       "2  698  789  13  1266  451  1247  134  1132  613  \n",
       "\n",
       "[3 rows x 62 columns]"
      ]
     },
     "execution_count": 17,
     "metadata": {},
     "output_type": "execute_result"
    }
   ],
   "source": [
    "fungus.head(3)"
   ]
  },
  {
   "cell_type": "code",
   "execution_count": 19,
   "metadata": {},
   "outputs": [
    {
     "data": {
      "text/plain": [
       "ASV88     1\n",
       "ASV736    1\n",
       "ASV754    1\n",
       "ASV753    1\n",
       "ASV751    1\n",
       "         ..\n",
       "ASV505    1\n",
       "ASV547    1\n",
       "ASV563    1\n",
       "ASV367    1\n",
       "ASV357    1\n",
       "Name: ASV, Length: 1733, dtype: int64"
      ]
     },
     "execution_count": 19,
     "metadata": {},
     "output_type": "execute_result"
    }
   ],
   "source": [
    "bacteria.ASV.value_counts()"
   ]
  },
  {
   "cell_type": "code",
   "execution_count": null,
   "metadata": {},
   "outputs": [],
   "source": []
  }
 ],
 "metadata": {
  "kernelspec": {
   "display_name": "Python 3",
   "language": "python",
   "name": "python3"
  },
  "language_info": {
   "codemirror_mode": {
    "name": "ipython",
    "version": 3
   },
   "file_extension": ".py",
   "mimetype": "text/x-python",
   "name": "python",
   "nbconvert_exporter": "python",
   "pygments_lexer": "ipython3",
   "version": "3.7.3"
  }
 },
 "nbformat": 4,
 "nbformat_minor": 2
}
